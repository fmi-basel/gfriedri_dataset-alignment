{
 "cells": [
  {
   "cell_type": "code",
   "execution_count": null,
   "id": "c683c6ff-1d9d-4313-af86-c7e5dc5bd7c7",
   "metadata": {},
   "outputs": [],
   "source": [
    "import napari\n",
    "import numpy as np\n",
    "from pathlib import Path\n",
    "\n",
    "import sys\n",
    "\n",
    "from tqdm.notebook import tqdm\n",
    "\n",
    "from faim_ipa.utils import get_git_root, make_relative_to_git_root\n",
    "\n",
    "from glob import glob\n",
    "from os.path import basename\n",
    "\n",
    "root = get_git_root()\n",
    "sys.path.append(str(root / 'source' / 's03_compute_tile_masks'))\n",
    "\n",
    "from tile_masking_section import TileMaskingSection"
   ]
  },
  {
   "cell_type": "markdown",
   "id": "7638e9c7-48a0-4baf-ab8e-a0ce35db77c0",
   "metadata": {},
   "source": [
    "# Welcome to Proof Reading\n",
    "\n",
    "This notebook uses napari to visualize tiles and masks for a selected section. The masks can be manually edited and resaved if necessary.\n",
    "\n",
    "## Create Viewer\n",
    "First we will open the napari viewer. After executing the next cell the viewer will open, but no data will be displayed."
   ]
  },
  {
   "cell_type": "code",
   "execution_count": null,
   "id": "7349bc62-650a-4e24-adc5-c37f41fc5e44",
   "metadata": {},
   "outputs": [],
   "source": [
    "viewer = napari.Viewer()"
   ]
  },
  {
   "cell_type": "markdown",
   "id": "b9048da7-4997-450d-bdfa-76a710b446c9",
   "metadata": {},
   "source": [
    "## Select Section\n",
    "Now you need to provide the path to a section directory. Go to your file-browser and navigate to the section (e.g. 's1012_g0') you would like to inspect and copy paste the path to the dirctory into the next line."
   ]
  },
  {
   "cell_type": "code",
   "execution_count": null,
   "id": "082768f7-220d-4050-bdbe-d86fdd139e2f",
   "metadata": {},
   "outputs": [],
   "source": [
    "section_directory = Path('put-your-path-here')"
   ]
  },
  {
   "cell_type": "code",
   "execution_count": null,
   "id": "8548ca94-8f59-4e67-978b-b72f37ae436c",
   "metadata": {},
   "outputs": [],
   "source": [
    "section = TileMaskingSection.load_from_yaml(section_directory / 'section.yaml')"
   ]
  },
  {
   "cell_type": "markdown",
   "id": "771c0ad1-0131-4d62-b5e4-3bf1b6f95714",
   "metadata": {},
   "source": [
    "The next code-cell will add all tiles and tile-masks to the napari viewer. Once it has completed you can switch to the napari viewer and inspect them. You can also edit the masks and save them later."
   ]
  },
  {
   "cell_type": "code",
   "execution_count": null,
   "id": "e4ec5020-ed9a-4cc0-b71e-d898ad629dd7",
   "metadata": {},
   "outputs": [],
   "source": [
    "shape = section.get_tile_shape()\n",
    "tile_id_map = section.get_tile_id_map(path=section_directory / 'tile_id_map.json')\n",
    "\n",
    "changed_masks = {}\n",
    "mask_layers = {}\n",
    "\n",
    "def set_masked_changed(tile_id):\n",
    "    def masked_changed():\n",
    "        changed_masks[tile_id] = True\n",
    "    return masked_changed\n",
    "\n",
    "for tile_id, tile in tqdm(section.tiles.items()):\n",
    "    try:\n",
    "        y, x = np.where(tile_id_map == tile_id)\n",
    "        # Make sure that tile_id is part of the tile_id_map\n",
    "        y = y[0]\n",
    "        x = x[0]\n",
    "        \n",
    "        viewer.add_image(tile.get_tile_data(), \n",
    "                        translate=(y * shape[0], x * shape[1] ), name=f\"tile-{tile_id} ({y}, {x})\")\n",
    "        mask = np.zeros(shape, dtype=np.uint8)\n",
    "        mask[section.get_smearing_mask(tile_id)] = 1\n",
    "        mask[section.get_resin_mask(tile_id)] = 2\n",
    "        mask_layer = viewer.add_labels(mask, \n",
    "                        translate=(y * shape[0], x * shape[1] ), name=f\"mask-{tile_id} ({y}, {x})\")\n",
    "        changed_masks[tile_id] = False\n",
    "        mask_layer.events.paint.connect(set_masked_changed(tile_id))\n",
    "        mask_layers[tile_id] = mask_layer\n",
    "    except IndexError as e:\n",
    "        print(f\"{tile_id} is not part of tile_id_map\")"
   ]
  },
  {
   "cell_type": "markdown",
   "id": "7e498368-3b59-4962-be31-ba3db4b483a3",
   "metadata": {},
   "source": [
    "## Save Edited Masks\n",
    "Running the next cell will overwrite the existing masks with your edited masks from the viewer.\n",
    "\n",
    "To avoid overwriting them by accident you are required to comment the top-most line (`assert ...`)."
   ]
  },
  {
   "cell_type": "code",
   "execution_count": null,
   "id": "0b5e6969-3c86-423b-95cc-b513ed5541a3",
   "metadata": {},
   "outputs": [],
   "source": [
    "assert False, 'Comment the top line, if you want to save and overwrite the existing masks.'\n",
    "for tile_id, has_changed in changed_masks.items():\n",
    "    if has_changed:\n",
    "        masks = mask_layers[tile_id].data\n",
    "        section.set_smearing_mask(tile_id, masks == 1)\n",
    "        print(f'Updated masks for {tile_id}.')\n",
    "\n",
    "section.save(str(sections_dir.parent), overwrite=False)"
   ]
  }
 ],
 "metadata": {
  "kernelspec": {
   "display_name": "Python 3 (ipykernel)",
   "language": "python",
   "name": "python3"
  },
  "language_info": {
   "codemirror_mode": {
    "name": "ipython",
    "version": 3
   },
   "file_extension": ".py",
   "mimetype": "text/x-python",
   "name": "python",
   "nbconvert_exporter": "python",
   "pygments_lexer": "ipython3",
   "version": "3.11.0"
  }
 },
 "nbformat": 4,
 "nbformat_minor": 5
}
